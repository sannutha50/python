{
 "cells": [
  {
   "cell_type": "markdown",
   "id": "d736cf34-e043-4789-91b0-c19887e0143f",
   "metadata": {},
   "source": [
    "# Assignment on Store_sales dataset\n",
    "\n",
    "**Load the Dataset**"
   ]
  },
  {
   "cell_type": "code",
   "execution_count": 6,
   "id": "fd79e268-0bd3-4844-af8d-0b1e2b7ceea6",
   "metadata": {},
   "outputs": [
    {
     "name": "stdout",
     "output_type": "stream",
     "text": [
      "  store_id        city  Jan  Feb  Mar  Apr  May  Jun  July  Aug  Sep  Oct  \\\n",
      "0      S_1       Texas    8   20   13   21   17   20    24   17   16    9   \n",
      "1      S_2  California   12   19   15   15   11   19     7   15   10   11   \n",
      "2      S_3  California   16   16   14   19   23    6    13   13   15   14   \n",
      "3      S_4       Texas    8   18   13   10   14   14     6    8    8   18   \n",
      "4      S_5       Texas   19    5   24    9    5   24    10    5   24   15   \n",
      "\n",
      "   Nov  Dec  \n",
      "0    7    6  \n",
      "1   21   19  \n",
      "2   24    8  \n",
      "3    7   11  \n",
      "4    6   13  \n"
     ]
    }
   ],
   "source": [
    "import pandas as pd\n",
    "\n",
    "df= pd.read_csv('store_sales.csv')\n",
    "print(df.head())\n"
   ]
  },
  {
   "cell_type": "markdown",
   "id": "13b8009e-28aa-4c56-8804-a6c417182541",
   "metadata": {},
   "source": [
    "**Calculate the total sales for each store across all months.**"
   ]
  },
  {
   "cell_type": "code",
   "execution_count": 10,
   "id": "3f148a00-b0e5-4caf-85d3-3483c4f62697",
   "metadata": {},
   "outputs": [
    {
     "name": "stdout",
     "output_type": "stream",
     "text": [
      "   store_id  total_sales\n",
      "0       S_1          178\n",
      "1       S_2          174\n",
      "2       S_3          181\n",
      "3       S_4          135\n",
      "4       S_5          159\n",
      "..      ...          ...\n",
      "95     S_96          185\n",
      "96     S_97          154\n",
      "97     S_98          168\n",
      "98     S_99          173\n",
      "99    S_100          180\n",
      "\n",
      "[100 rows x 2 columns]\n"
     ]
    }
   ],
   "source": [
    "df['total_sales'] = df.loc[:, 'Jan':'Dec'].sum(axis=1)\n",
    "\n",
    "\n",
    "print(df[['store_id', 'total_sales']])\n"
   ]
  },
  {
   "cell_type": "markdown",
   "id": "47673b50-bfea-4eb6-9e50-918e87c7c1ff",
   "metadata": {},
   "source": [
    "**Find the average sales for each month across all stores**"
   ]
  },
  {
   "cell_type": "code",
   "execution_count": 13,
   "id": "cfea1028-bd85-4552-ab60-936a13c7d84b",
   "metadata": {},
   "outputs": [
    {
     "name": "stdout",
     "output_type": "stream",
     "text": [
      "Jan     14.46\n",
      "Feb     15.09\n",
      "Mar     14.56\n",
      "Apr     14.57\n",
      "May     13.56\n",
      "Jun     13.80\n",
      "July    14.38\n",
      "Aug     15.81\n",
      "Sep     14.91\n",
      "Oct     14.10\n",
      "Nov     15.31\n",
      "Dec     13.57\n",
      "dtype: float64\n"
     ]
    }
   ],
   "source": [
    "average_sales = df.loc[:, 'Jan':'Dec'].mean()\n",
    "print(average_sales)"
   ]
  },
  {
   "cell_type": "markdown",
   "id": "6dd912e0-9984-42b8-9bf0-db10a69a300c",
   "metadata": {},
   "source": [
    "**Identify the store with the highest total sales.**"
   ]
  },
  {
   "cell_type": "code",
   "execution_count": 14,
   "id": "dca54b78-dbe5-4095-8e14-e1a73c34dff6",
   "metadata": {},
   "outputs": [
    {
     "name": "stdout",
     "output_type": "stream",
     "text": [
      "   store_id        city  total_sales\n",
      "85     S_86  California          214\n"
     ]
    }
   ],
   "source": [
    "\n",
    "df['total_sales'] = df.loc[:, 'Jan':'Dec'].sum(axis=1)\n",
    "highest_sales = df.sort_values(by='total_sales', ascending=False).head(1)\n",
    "print(highest_sales[['store_id', 'city', 'total_sales']])\n"
   ]
  },
  {
   "cell_type": "markdown",
   "id": "1c6e048a-7dbe-4975-8126-0ff9d46d0b8d",
   "metadata": {},
   "source": [
    "**Calculate the total sales for each city.**"
   ]
  },
  {
   "cell_type": "code",
   "execution_count": 17,
   "id": "98fdf5f3-5721-4353-b34d-713e98c20450",
   "metadata": {},
   "outputs": [
    {
     "name": "stdout",
     "output_type": "stream",
     "text": [
      "city\n",
      "Arizona       3951\n",
      "California    7522\n",
      "Texas         5939\n",
      "Name: total_sales, dtype: int64\n"
     ]
    }
   ],
   "source": [
    "city_total_sales = df.groupby('city')['total_sales'].sum()\n",
    "print(city_total_sales)"
   ]
  },
  {
   "cell_type": "markdown",
   "id": "b9cd0e10-c37e-485a-9b6b-e6a67cd19c7d",
   "metadata": {},
   "source": [
    "**List stores with total sales greater than 200**"
   ]
  },
  {
   "cell_type": "code",
   "execution_count": 18,
   "id": "a1134ab7-96fe-416c-8da1-daddad0064e6",
   "metadata": {},
   "outputs": [
    {
     "name": "stdout",
     "output_type": "stream",
     "text": [
      "   store_id        city  total_sales\n",
      "37     S_38  California          207\n",
      "39     S_40       Texas          204\n",
      "50     S_51     Arizona          210\n",
      "61     S_62  California          214\n",
      "69     S_70       Texas          206\n",
      "72     S_73  California          213\n",
      "77     S_78     Arizona          211\n",
      "85     S_86  California          214\n",
      "86     S_87       Texas          203\n",
      "92     S_93  California          204\n"
     ]
    }
   ],
   "source": [
    "high_sales = df[df['total_sales'] > 200]\n",
    "print(high_sales[['store_id', 'city', 'total_sales']])"
   ]
  },
  {
   "cell_type": "markdown",
   "id": "00a46208-69b2-4577-9f68-c278af43c557",
   "metadata": {},
   "source": [
    "**Which month had the highest average sales across all stores?**\n"
   ]
  },
  {
   "cell_type": "code",
   "execution_count": 21,
   "id": "9b85a613-a4b4-499c-9782-97e585120f52",
   "metadata": {},
   "outputs": [
    {
     "name": "stdout",
     "output_type": "stream",
     "text": [
      "Aug\n"
     ]
    }
   ],
   "source": [
    "highest_avg = average_sales[average_sales == average_sales.max()].index[0]\n",
    "print(highest_avg)\n"
   ]
  },
  {
   "cell_type": "code",
   "execution_count": null,
   "id": "c46bc5fe-5318-45d2-95ca-e7a9eb0c2010",
   "metadata": {},
   "outputs": [],
   "source": []
  },
  {
   "cell_type": "markdown",
   "id": "37455b7e-1c05-45d5-9dd1-454527319264",
   "metadata": {},
   "source": [
    "**Which city generated the most revenue?**"
   ]
  },
  {
   "cell_type": "code",
   "execution_count": 22,
   "id": "0ceea861-e5f6-4a86-86f0-788d68a898a5",
   "metadata": {},
   "outputs": [
    {
     "name": "stdout",
     "output_type": "stream",
     "text": [
      "California\n"
     ]
    }
   ],
   "source": [
    "highest_sales_city = city_total_sales[city_total_sales == city_total_sales.max()].index[0]\n",
    "print(highest_sales_city)\n"
   ]
  },
  {
   "cell_type": "code",
   "execution_count": null,
   "id": "2ef79f20-794b-4c09-aec4-fff2e5e9c4b7",
   "metadata": {},
   "outputs": [],
   "source": []
  }
 ],
 "metadata": {
  "kernelspec": {
   "display_name": "Python 3 (ipykernel)",
   "language": "python",
   "name": "python3"
  },
  "language_info": {
   "codemirror_mode": {
    "name": "ipython",
    "version": 3
   },
   "file_extension": ".py",
   "mimetype": "text/x-python",
   "name": "python",
   "nbconvert_exporter": "python",
   "pygments_lexer": "ipython3",
   "version": "3.11.7"
  }
 },
 "nbformat": 4,
 "nbformat_minor": 5
}
